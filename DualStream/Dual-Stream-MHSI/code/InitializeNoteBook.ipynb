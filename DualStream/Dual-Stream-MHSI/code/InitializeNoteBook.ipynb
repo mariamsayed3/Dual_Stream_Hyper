{
 "cells": [
  {
   "cell_type": "code",
   "execution_count": 1,
   "metadata": {},
   "outputs": [
    {
     "name": "stderr",
     "output_type": "stream",
     "text": [
      "Cloning into 'Dual-Stream-MHSI'...\n"
     ]
    }
   ],
   "source": [
    "!git clone https://github.com/ligtexpe45/Dual-Stream-MHSI"
   ]
  },
  {
   "cell_type": "code",
   "execution_count": 3,
   "metadata": {},
   "outputs": [
    {
     "name": "stdout",
     "output_type": "stream",
     "text": [
      "path\n"
     ]
    }
   ],
   "source": [
    "from Data_Generate import Data_Generate_Transc\n",
    "\n",
    "path_label = '../bioDataset2/cell_type_matrix1.npy'\n",
    "path_img = '../bioDataset2/gene_expre_matrix_1.npy'\n",
    "\n",
    "print('path')\n",
    "\n",
    "dataset = Data_Generate_Transc([path_img], [path_label])"
   ]
  },
  {
   "cell_type": "code",
   "execution_count": 4,
   "metadata": {},
   "outputs": [],
   "source": [
    "img, label = dataset[0]"
   ]
  },
  {
   "cell_type": "code",
   "execution_count": 5,
   "metadata": {},
   "outputs": [
    {
     "data": {
      "text/plain": [
       "((288, 32, 32), (32, 32))"
      ]
     },
     "execution_count": 5,
     "metadata": {},
     "output_type": "execute_result"
    }
   ],
   "source": [
    "img.shape, label.shape"
   ]
  },
  {
   "cell_type": "code",
   "execution_count": null,
   "metadata": {},
   "outputs": [],
   "source": []
  }
 ],
 "metadata": {
  "kernelspec": {
   "display_name": ".venv",
   "language": "python",
   "name": "python3"
  },
  "language_info": {
   "codemirror_mode": {
    "name": "ipython",
    "version": 3
   },
   "file_extension": ".py",
   "mimetype": "text/x-python",
   "name": "python",
   "nbconvert_exporter": "python",
   "pygments_lexer": "ipython3",
   "version": "3.11.5"
  }
 },
 "nbformat": 4,
 "nbformat_minor": 2
}
